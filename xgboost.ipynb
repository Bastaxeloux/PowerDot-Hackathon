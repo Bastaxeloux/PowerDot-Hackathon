{
 "cells": [
  {
   "cell_type": "code",
   "execution_count": 1,
   "metadata": {},
   "outputs": [
    {
     "name": "stderr",
     "output_type": "stream",
     "text": [
      "c:\\Users\\ayman\\AppData\\Local\\Programs\\Python\\Python311\\Lib\\site-packages\\tqdm\\auto.py:21: TqdmWarning: IProgress not found. Please update jupyter and ipywidgets. See https://ipywidgets.readthedocs.io/en/stable/user_install.html\n",
      "  from .autonotebook import tqdm as notebook_tqdm\n"
     ]
    }
   ],
   "source": [
    "import xgboost as xgb\n",
    "import pandas as pd\n",
    "from sklearn.model_selection import train_test_split\n",
    "from sklearn.metrics import accuracy_score, mean_squared_error\n",
    "import optuna"
   ]
  },
  {
   "cell_type": "code",
   "execution_count": 27,
   "metadata": {},
   "outputs": [],
   "source": [
    "data = pd.read_csv('final3.csv')\n",
    "\n",
    "\"\"\" data.drop(['sessions'], axis=1, inplace=True)\n",
    "data.drop(['failed_sessions'], axis=1, inplace=True) \"\"\"\n",
    "\n",
    "# Assuming the last column is the target variable\n",
    "X = data.iloc[:, :-1]  # Features\n",
    "y = data.iloc[:, -1]   # Target\n",
    "\n",
    "# Split the data into training and testing sets\n",
    "X_train, X_test, y_train, y_test = train_test_split(X, y, test_size=0.2, random_state=42)"
   ]
  },
  {
   "cell_type": "code",
   "execution_count": 28,
   "metadata": {},
   "outputs": [],
   "source": [
    "dtrain = xgb.DMatrix(X_train, label=y_train)\n",
    "dtest = xgb.DMatrix(X_test, label=y_test)"
   ]
  },
  {
   "cell_type": "code",
   "execution_count": 29,
   "metadata": {},
   "outputs": [],
   "source": [
    "def objective(trial):\n",
    "    # Define hyperparameters to tune\n",
    "    params = {\n",
    "        'objective': 'reg:squarederror',  # For regression tasks\n",
    "        # 'objective': 'binary:logistic',  # For binary classification\n",
    "        # 'objective': 'multi:softmax',   # For multi-class classification\n",
    "        'max_depth': trial.suggest_int('max_depth', 3, 10),\n",
    "        'learning_rate': trial.suggest_float('learning_rate', 0.01, 0.3),\n",
    "        'subsample': trial.suggest_float('subsample', 0.5, 1.0),\n",
    "        'colsample_bytree': trial.suggest_float('colsample_bytree', 0.5, 1.0),\n",
    "        'min_child_weight': trial.suggest_int('min_child_weight', 1, 10),\n",
    "        'gamma': trial.suggest_float('gamma', 0, 1),\n",
    "        'reg_alpha': trial.suggest_float('reg_alpha', 0, 1),\n",
    "        'reg_lambda': trial.suggest_float('reg_lambda', 0, 1),\n",
    "        'n_estimators': trial.suggest_int('n_estimators', 100, 1000),\n",
    "        'random_state': 42,\n",
    "    }\n",
    "\n",
    "    # Train the model\n",
    "    model = xgb.XGBRegressor(**params)  # Use XGBClassifier for classification\n",
    "    model.fit(X_train, y_train)\n",
    "\n",
    "    # Make predictions\n",
    "    y_pred = model.predict(X_test)\n",
    "\n",
    "    # Evaluate the model\n",
    "    mse = mean_squared_error(y_test, y_pred)  # Calculate MSE\n",
    "    rmse = mse ** 0.5  # Manually calculate RMSE\n",
    "    return rmse  # Minimize RMSE (for regression)\n",
    "    # For classification, use accuracy or log loss:\n",
    "    # y_pred = model.predict(X_test)\n",
    "    # accuracy = accuracy_score(y_test, y_pred)\n",
    "    # return 1 - accuracy  # Minimize (1 - accuracy)"
   ]
  },
  {
   "cell_type": "code",
   "execution_count": 31,
   "metadata": {},
   "outputs": [
    {
     "name": "stderr",
     "output_type": "stream",
     "text": [
      "[I 2025-03-06 18:22:48,385] A new study created in memory with name: no-name-9ea3a5e0-a192-4400-ae3c-df4818879ae3\n",
      "[I 2025-03-06 18:22:49,331] Trial 0 finished with value: 0.23362947146206975 and parameters: {'max_depth': 3, 'learning_rate': 0.14573527947398127, 'subsample': 0.9810003227054118, 'colsample_bytree': 0.6666220547951194, 'min_child_weight': 5, 'gamma': 0.43080990938053465, 'reg_alpha': 0.6465124901717071, 'reg_lambda': 0.42332534895593743, 'n_estimators': 573}. Best is trial 0 with value: 0.23362947146206975.\n",
      "[I 2025-03-06 18:22:49,847] Trial 1 finished with value: 0.22601246659847368 and parameters: {'max_depth': 5, 'learning_rate': 0.20454101872586136, 'subsample': 0.8891322200007145, 'colsample_bytree': 0.5788240115799588, 'min_child_weight': 8, 'gamma': 0.4897961971424112, 'reg_alpha': 0.49610855027165535, 'reg_lambda': 0.25203040892165707, 'n_estimators': 551}. Best is trial 1 with value: 0.22601246659847368.\n",
      "[I 2025-03-06 18:22:50,347] Trial 2 finished with value: 0.22600288996072454 and parameters: {'max_depth': 3, 'learning_rate': 0.017067193346773663, 'subsample': 0.979192704311587, 'colsample_bytree': 0.8184352167152076, 'min_child_weight': 4, 'gamma': 0.1085209057741231, 'reg_alpha': 0.8294343687090016, 'reg_lambda': 0.929802525679848, 'n_estimators': 632}. Best is trial 2 with value: 0.22600288996072454.\n",
      "[I 2025-03-06 18:22:50,895] Trial 3 finished with value: 0.23288913048101828 and parameters: {'max_depth': 9, 'learning_rate': 0.1124214837529235, 'subsample': 0.5510393942258427, 'colsample_bytree': 0.7387327535193958, 'min_child_weight': 7, 'gamma': 0.9467367453833047, 'reg_alpha': 0.7669262616888565, 'reg_lambda': 0.7623242448065188, 'n_estimators': 969}. Best is trial 2 with value: 0.22600288996072454.\n",
      "[I 2025-03-06 18:22:51,418] Trial 4 finished with value: 0.22302604384276908 and parameters: {'max_depth': 10, 'learning_rate': 0.21527982652912636, 'subsample': 0.8606867676525376, 'colsample_bytree': 0.8459419454792807, 'min_child_weight': 6, 'gamma': 0.7347390751999279, 'reg_alpha': 0.3938564290036628, 'reg_lambda': 0.4313999258506591, 'n_estimators': 776}. Best is trial 4 with value: 0.22302604384276908.\n",
      "[I 2025-03-06 18:22:52,157] Trial 5 finished with value: 0.2264210818680046 and parameters: {'max_depth': 10, 'learning_rate': 0.16262394381203935, 'subsample': 0.7899524545038481, 'colsample_bytree': 0.5804630900986658, 'min_child_weight': 9, 'gamma': 0.5598791043770016, 'reg_alpha': 0.9846391317669501, 'reg_lambda': 0.43654803287723376, 'n_estimators': 952}. Best is trial 4 with value: 0.22302604384276908.\n",
      "[I 2025-03-06 18:22:52,536] Trial 6 finished with value: 0.23069885857109151 and parameters: {'max_depth': 5, 'learning_rate': 0.2181300789046533, 'subsample': 0.9266369928136451, 'colsample_bytree': 0.659167571937574, 'min_child_weight': 1, 'gamma': 0.7434622439456648, 'reg_alpha': 0.48788746150322726, 'reg_lambda': 0.7177117266485539, 'n_estimators': 763}. Best is trial 4 with value: 0.22302604384276908.\n",
      "[I 2025-03-06 18:22:53,005] Trial 7 finished with value: 0.22149502629364173 and parameters: {'max_depth': 5, 'learning_rate': 0.09261557005909236, 'subsample': 0.8894269318861892, 'colsample_bytree': 0.6730251625072909, 'min_child_weight': 3, 'gamma': 0.39533882246404173, 'reg_alpha': 0.5070010068082308, 'reg_lambda': 0.6614221606512015, 'n_estimators': 1000}. Best is trial 7 with value: 0.22149502629364173.\n",
      "[I 2025-03-06 18:22:53,243] Trial 8 finished with value: 0.22704238876090962 and parameters: {'max_depth': 3, 'learning_rate': 0.18813933654001125, 'subsample': 0.7661956153921143, 'colsample_bytree': 0.5775147578527076, 'min_child_weight': 2, 'gamma': 0.1520899527912314, 'reg_alpha': 0.10319765203775988, 'reg_lambda': 0.6220932350864661, 'n_estimators': 177}. Best is trial 7 with value: 0.22149502629364173.\n",
      "[I 2025-03-06 18:22:55,816] Trial 9 finished with value: 0.22365901410392364 and parameters: {'max_depth': 8, 'learning_rate': 0.2586463476413808, 'subsample': 0.9283869879376785, 'colsample_bytree': 0.7268770267928861, 'min_child_weight': 3, 'gamma': 0.6151726254841688, 'reg_alpha': 0.2786030954072629, 'reg_lambda': 0.44342450706665015, 'n_estimators': 985}. Best is trial 7 with value: 0.22149502629364173.\n",
      "[I 2025-03-06 18:22:56,094] Trial 10 finished with value: 0.21888479269212868 and parameters: {'max_depth': 6, 'learning_rate': 0.05591323544216342, 'subsample': 0.6298592483543615, 'colsample_bytree': 0.9749392067248432, 'min_child_weight': 10, 'gamma': 0.2593574119056198, 'reg_alpha': 0.0161865164331223, 'reg_lambda': 0.11585107988379284, 'n_estimators': 217}. Best is trial 10 with value: 0.21888479269212868.\n",
      "[I 2025-03-06 18:22:56,432] Trial 11 finished with value: 0.21893567481765266 and parameters: {'max_depth': 6, 'learning_rate': 0.061603468521123715, 'subsample': 0.6207250239689448, 'colsample_bytree': 0.9525432849998294, 'min_child_weight': 10, 'gamma': 0.29818256728672254, 'reg_alpha': 0.06939100893010763, 'reg_lambda': 0.10933840809310173, 'n_estimators': 294}. Best is trial 10 with value: 0.21888479269212868.\n",
      "[I 2025-03-06 18:22:56,769] Trial 12 finished with value: 0.21828052687200916 and parameters: {'max_depth': 7, 'learning_rate': 0.02543156303655894, 'subsample': 0.6078635997638133, 'colsample_bytree': 0.9904896344260652, 'min_child_weight': 10, 'gamma': 0.25993310279975085, 'reg_alpha': 0.04637803110916561, 'reg_lambda': 0.020762936190546213, 'n_estimators': 260}. Best is trial 12 with value: 0.21828052687200916.\n",
      "[I 2025-03-06 18:22:57,125] Trial 13 finished with value: 0.217223280765444 and parameters: {'max_depth': 7, 'learning_rate': 0.020001166538304915, 'subsample': 0.6395441222749741, 'colsample_bytree': 0.9834556570610349, 'min_child_weight': 10, 'gamma': 0.2456033501064486, 'reg_alpha': 0.020134304214008303, 'reg_lambda': 0.03436414280080788, 'n_estimators': 348}. Best is trial 13 with value: 0.217223280765444.\n",
      "[I 2025-03-06 18:22:58,128] Trial 14 finished with value: 0.21744856101452656 and parameters: {'max_depth': 8, 'learning_rate': 0.0166981836611953, 'subsample': 0.6788824482157586, 'colsample_bytree': 0.8957975401070988, 'min_child_weight': 8, 'gamma': 0.0013881718809831134, 'reg_alpha': 0.21713651058535097, 'reg_lambda': 0.0021558352371385814, 'n_estimators': 366}. Best is trial 13 with value: 0.217223280765444.\n",
      "[I 2025-03-06 18:22:59,031] Trial 15 finished with value: 0.2312563595670572 and parameters: {'max_depth': 8, 'learning_rate': 0.06256637357314786, 'subsample': 0.6996551835030965, 'colsample_bytree': 0.8948353539481788, 'min_child_weight': 8, 'gamma': 0.011289014380549467, 'reg_alpha': 0.26366251336688273, 'reg_lambda': 0.26900933188033294, 'n_estimators': 399}. Best is trial 13 with value: 0.217223280765444.\n",
      "[I 2025-03-06 18:22:59,544] Trial 16 finished with value: 0.22416714795556097 and parameters: {'max_depth': 8, 'learning_rate': 0.108711785808309, 'subsample': 0.6913246674316186, 'colsample_bytree': 0.9036038427066881, 'min_child_weight': 8, 'gamma': 0.04257117381026229, 'reg_alpha': 0.22878038927957528, 'reg_lambda': 0.0035130716584510537, 'n_estimators': 418}. Best is trial 13 with value: 0.217223280765444.\n",
      "[I 2025-03-06 18:23:00,131] Trial 17 finished with value: 0.2176105077947825 and parameters: {'max_depth': 7, 'learning_rate': 0.013707788758367024, 'subsample': 0.5282072083242219, 'colsample_bytree': 0.809554319799967, 'min_child_weight': 6, 'gamma': 0.1477122748182097, 'reg_alpha': 0.1740933600059651, 'reg_lambda': 0.2607390496312777, 'n_estimators': 393}. Best is trial 13 with value: 0.217223280765444.\n",
      "[I 2025-03-06 18:23:00,322] Trial 18 finished with value: 0.21663599660711746 and parameters: {'max_depth': 9, 'learning_rate': 0.2894471116253963, 'subsample': 0.6987656244958076, 'colsample_bytree': 0.9013397905742517, 'min_child_weight': 9, 'gamma': 0.3145947120429813, 'reg_alpha': 0.37642966657327703, 'reg_lambda': 0.1440761446190597, 'n_estimators': 123}. Best is trial 18 with value: 0.21663599660711746.\n",
      "[I 2025-03-06 18:23:00,533] Trial 19 finished with value: 0.21899601181744827 and parameters: {'max_depth': 9, 'learning_rate': 0.2920497067920248, 'subsample': 0.8044269693529923, 'colsample_bytree': 0.9476374593726619, 'min_child_weight': 9, 'gamma': 0.3360307289099888, 'reg_alpha': 0.379067023207758, 'reg_lambda': 0.16665586792059153, 'n_estimators': 156}. Best is trial 18 with value: 0.21663599660711746.\n",
      "[I 2025-03-06 18:23:00,719] Trial 20 finished with value: 0.23018797242123643 and parameters: {'max_depth': 9, 'learning_rate': 0.2548884040342676, 'subsample': 0.7255821304620829, 'colsample_bytree': 0.5079530803547296, 'min_child_weight': 9, 'gamma': 0.21576773101638036, 'reg_alpha': 0.6084840900023079, 'reg_lambda': 0.3076550377622177, 'n_estimators': 101}. Best is trial 18 with value: 0.21663599660711746.\n",
      "[I 2025-03-06 18:23:01,128] Trial 21 finished with value: 0.21579491996694358 and parameters: {'max_depth': 7, 'learning_rate': 0.0436724042405552, 'subsample': 0.6748106240538677, 'colsample_bytree': 0.8880362438764081, 'min_child_weight': 7, 'gamma': 0.09278009645409802, 'reg_alpha': 0.17207727712722232, 'reg_lambda': 0.08303688994666264, 'n_estimators': 320}. Best is trial 21 with value: 0.21579491996694358.\n",
      "[I 2025-03-06 18:23:01,489] Trial 22 finished with value: 0.2168374925659692 and parameters: {'max_depth': 7, 'learning_rate': 0.04692609245953247, 'subsample': 0.5760267018991446, 'colsample_bytree': 0.8741767503462723, 'min_child_weight': 7, 'gamma': 0.18348494230915616, 'reg_alpha': 0.14229141131971487, 'reg_lambda': 0.16655584526739545, 'n_estimators': 330}. Best is trial 21 with value: 0.21579491996694358.\n",
      "[I 2025-03-06 18:23:01,935] Trial 23 finished with value: 0.21854597181680527 and parameters: {'max_depth': 6, 'learning_rate': 0.13819653268228194, 'subsample': 0.5578654594347412, 'colsample_bytree': 0.8489201218428714, 'min_child_weight': 7, 'gamma': 0.11492779756445948, 'reg_alpha': 0.3785679790243785, 'reg_lambda': 0.14199119850276795, 'n_estimators': 467}. Best is trial 21 with value: 0.21579491996694358.\n",
      "[I 2025-03-06 18:23:02,123] Trial 24 finished with value: 0.22522161219357995 and parameters: {'max_depth': 4, 'learning_rate': 0.08316310242958888, 'subsample': 0.5807518811358796, 'colsample_bytree': 0.779116194476622, 'min_child_weight': 7, 'gamma': 0.3343956260550405, 'reg_alpha': 0.13146576712065233, 'reg_lambda': 0.19606901840901478, 'n_estimators': 104}. Best is trial 21 with value: 0.21579491996694358.\n",
      "[I 2025-03-06 18:23:02,440] Trial 25 finished with value: 0.21848959409390145 and parameters: {'max_depth': 7, 'learning_rate': 0.04354597067913302, 'subsample': 0.5125248441166579, 'colsample_bytree': 0.9178714321873437, 'min_child_weight': 5, 'gamma': 0.18902946693101585, 'reg_alpha': 0.29828692138199553, 'reg_lambda': 0.34560423530127454, 'n_estimators': 294}. Best is trial 21 with value: 0.21579491996694358.\n",
      "[I 2025-03-06 18:23:02,795] Trial 26 finished with value: 0.22545768758239182 and parameters: {'max_depth': 9, 'learning_rate': 0.29092224667945416, 'subsample': 0.6651204363923459, 'colsample_bytree': 0.8622982744495095, 'min_child_weight': 6, 'gamma': 0.40703471312726097, 'reg_alpha': 0.1636815412883479, 'reg_lambda': 0.08791706095768612, 'n_estimators': 478}. Best is trial 21 with value: 0.21579491996694358.\n",
      "[I 2025-03-06 18:23:03,138] Trial 27 finished with value: 0.21838332848369715 and parameters: {'max_depth': 10, 'learning_rate': 0.07706965139154379, 'subsample': 0.73932288792248, 'colsample_bytree': 0.9280874324072134, 'min_child_weight': 7, 'gamma': 0.05211988704398992, 'reg_alpha': 0.31604328527122594, 'reg_lambda': 0.5513141504929546, 'n_estimators': 232}. Best is trial 21 with value: 0.21579491996694358.\n",
      "[I 2025-03-06 18:23:03,481] Trial 28 finished with value: 0.22345100742139878 and parameters: {'max_depth': 8, 'learning_rate': 0.11910308098947212, 'subsample': 0.5817806326978332, 'colsample_bytree': 0.79975046880953, 'min_child_weight': 9, 'gamma': 0.0833317936066261, 'reg_alpha': 0.44660316166759234, 'reg_lambda': 0.18589252727326044, 'n_estimators': 309}. Best is trial 21 with value: 0.21579491996694358.\n",
      "[I 2025-03-06 18:23:03,922] Trial 29 finished with value: 0.22285160061353645 and parameters: {'max_depth': 6, 'learning_rate': 0.16410313704527793, 'subsample': 0.658453260634254, 'colsample_bytree': 0.8646773218259277, 'min_child_weight': 5, 'gamma': 0.4919987965939792, 'reg_alpha': 0.5933357918459085, 'reg_lambda': 0.38037743238453947, 'n_estimators': 646}. Best is trial 21 with value: 0.21579491996694358.\n",
      "[I 2025-03-06 18:23:04,274] Trial 30 finished with value: 0.2208612601297928 and parameters: {'max_depth': 7, 'learning_rate': 0.13965558763781166, 'subsample': 0.7206638828012288, 'colsample_bytree': 0.7659499059405677, 'min_child_weight': 4, 'gamma': 0.3729608943999723, 'reg_alpha': 0.1981394805942816, 'reg_lambda': 0.21275147956142793, 'n_estimators': 490}. Best is trial 21 with value: 0.21579491996694358.\n",
      "[I 2025-03-06 18:23:04,637] Trial 31 finished with value: 0.2167798542523829 and parameters: {'max_depth': 7, 'learning_rate': 0.033599083626677115, 'subsample': 0.6399246856777123, 'colsample_bytree': 0.9998219323126879, 'min_child_weight': 10, 'gamma': 0.2292077514728684, 'reg_alpha': 0.010611159529540698, 'reg_lambda': 0.0561448464958199, 'n_estimators': 341}. Best is trial 21 with value: 0.21579491996694358.\n",
      "[I 2025-03-06 18:23:04,900] Trial 32 finished with value: 0.21808703470611743 and parameters: {'max_depth': 7, 'learning_rate': 0.040083535921118504, 'subsample': 0.6488882846082376, 'colsample_bytree': 0.8811518530710996, 'min_child_weight': 8, 'gamma': 0.1931058907610155, 'reg_alpha': 0.1136273690522902, 'reg_lambda': 0.08212139018998979, 'n_estimators': 173}. Best is trial 21 with value: 0.21579491996694358.\n",
      "[I 2025-03-06 18:23:05,381] Trial 33 finished with value: 0.21909466055725865 and parameters: {'max_depth': 6, 'learning_rate': 0.04325176316071784, 'subsample': 0.5935495542227475, 'colsample_bytree': 0.9280374764533059, 'min_child_weight': 9, 'gamma': 0.30241899037221265, 'reg_alpha': 0.00523378632139142, 'reg_lambda': 0.0710136262902345, 'n_estimators': 542}. Best is trial 21 with value: 0.21579491996694358.\n",
      "[I 2025-03-06 18:23:05,657] Trial 34 finished with value: 0.22086017219877263 and parameters: {'max_depth': 5, 'learning_rate': 0.09396321288697594, 'subsample': 0.7684624783443585, 'colsample_bytree': 0.9533883769168779, 'min_child_weight': 7, 'gamma': 0.44383292360422366, 'reg_alpha': 0.12727143190822593, 'reg_lambda': 0.994809264099838, 'n_estimators': 335}. Best is trial 21 with value: 0.21579491996694358.\n",
      "[I 2025-03-06 18:23:06,128] Trial 35 finished with value: 0.22901605764981783 and parameters: {'max_depth': 9, 'learning_rate': 0.244302866145599, 'subsample': 0.5501636301594356, 'colsample_bytree': 0.9962977698699371, 'min_child_weight': 8, 'gamma': 0.13626301660849294, 'reg_alpha': 0.3426055223537397, 'reg_lambda': 0.2341957527056216, 'n_estimators': 593}. Best is trial 21 with value: 0.21579491996694358.\n",
      "[I 2025-03-06 18:23:06,444] Trial 36 finished with value: 0.2198455403654268 and parameters: {'max_depth': 4, 'learning_rate': 0.033319233940700625, 'subsample': 0.692491161385297, 'colsample_bytree': 0.8295470069917728, 'min_child_weight': 6, 'gamma': 0.08311388081198709, 'reg_alpha': 0.7460196712681326, 'reg_lambda': 0.14834932786756186, 'n_estimators': 239}. Best is trial 21 with value: 0.21579491996694358.\n",
      "[I 2025-03-06 18:23:06,946] Trial 37 finished with value: 0.22265421715862463 and parameters: {'max_depth': 8, 'learning_rate': 0.18669587290044393, 'subsample': 0.6160290379906905, 'colsample_bytree': 0.8743745830932335, 'min_child_weight': 10, 'gamma': 0.18444131230702238, 'reg_alpha': 0.06480257296812347, 'reg_lambda': 0.8438867253468152, 'n_estimators': 734}. Best is trial 21 with value: 0.21579491996694358.\n",
      "[I 2025-03-06 18:23:07,296] Trial 38 finished with value: 0.22434166420215249 and parameters: {'max_depth': 10, 'learning_rate': 0.070084382574253, 'subsample': 0.8150693330509472, 'colsample_bytree': 0.7119179366763413, 'min_child_weight': 9, 'gamma': 0.5665285122879478, 'reg_alpha': 0.2466333959260568, 'reg_lambda': 0.3051783589648093, 'n_estimators': 441}. Best is trial 21 with value: 0.21579491996694358.\n",
      "[I 2025-03-06 18:23:07,670] Trial 39 finished with value: 0.2311213193314618 and parameters: {'max_depth': 7, 'learning_rate': 0.11820171523190781, 'subsample': 0.5012325627541868, 'colsample_bytree': 0.8381523732691357, 'min_child_weight': 7, 'gamma': 0.7181660336562032, 'reg_alpha': 0.9641113164358924, 'reg_lambda': 0.49857279679571354, 'n_estimators': 540}. Best is trial 21 with value: 0.21579491996694358.\n",
      "[I 2025-03-06 18:23:07,964] Trial 40 finished with value: 0.23227662267993693 and parameters: {'max_depth': 4, 'learning_rate': 0.0515331942683719, 'subsample': 0.7143225598267695, 'colsample_bytree': 0.9513390232709005, 'min_child_weight': 5, 'gamma': 0.9647934588621903, 'reg_alpha': 0.44599917045212795, 'reg_lambda': 0.3780643879357534, 'n_estimators': 259}. Best is trial 21 with value: 0.21579491996694358.\n",
      "[I 2025-03-06 18:23:08,330] Trial 41 finished with value: 0.21590935264176836 and parameters: {'max_depth': 7, 'learning_rate': 0.026859900032769807, 'subsample': 0.646520986025133, 'colsample_bytree': 0.9758969583403446, 'min_child_weight': 10, 'gamma': 0.24287558573112183, 'reg_alpha': 0.059491073181153556, 'reg_lambda': 0.0466518383511531, 'n_estimators': 328}. Best is trial 21 with value: 0.21579491996694358.\n",
      "[I 2025-03-06 18:23:08,601] Trial 42 finished with value: 0.21795961094227 and parameters: {'max_depth': 6, 'learning_rate': 0.036162589067759786, 'subsample': 0.6707510324139454, 'colsample_bytree': 0.9708471372005099, 'min_child_weight': 10, 'gamma': 0.25506355997314045, 'reg_alpha': 0.09181922172496751, 'reg_lambda': 0.06845353026678144, 'n_estimators': 196}. Best is trial 21 with value: 0.21579491996694358.\n",
      "[I 2025-03-06 18:23:09,152] Trial 43 finished with value: 0.21815605080560896 and parameters: {'max_depth': 8, 'learning_rate': 0.09789319603552095, 'subsample': 0.5664590686074757, 'colsample_bytree': 0.9138267852168849, 'min_child_weight': 9, 'gamma': 0.351821367674364, 'reg_alpha': 0.15947833177705012, 'reg_lambda': 0.1290704617603933, 'n_estimators': 875}. Best is trial 21 with value: 0.21579491996694358.\n",
      "[I 2025-03-06 18:23:09,439] Trial 44 finished with value: 0.23162452583912935 and parameters: {'max_depth': 7, 'learning_rate': 0.011247042707141365, 'subsample': 0.6354896533524003, 'colsample_bytree': 0.9353061332338549, 'min_child_weight': 10, 'gamma': 0.29422662598205285, 'reg_alpha': 0.06927866256198811, 'reg_lambda': 0.07003320044227655, 'n_estimators': 136}. Best is trial 21 with value: 0.21579491996694358.\n",
      "[I 2025-03-06 18:23:09,779] Trial 45 finished with value: 0.21799699572966938 and parameters: {'max_depth': 6, 'learning_rate': 0.02985520664781547, 'subsample': 0.6060028939155617, 'colsample_bytree': 0.9685391567056458, 'min_child_weight': 8, 'gamma': 0.22599722109436432, 'reg_alpha': 0.04856474388739032, 'reg_lambda': 0.1640712235203366, 'n_estimators': 320}. Best is trial 21 with value: 0.21579491996694358.\n",
      "[I 2025-03-06 18:23:10,070] Trial 46 finished with value: 0.2206382993844755 and parameters: {'max_depth': 8, 'learning_rate': 0.05027512231532791, 'subsample': 0.5339919898541488, 'colsample_bytree': 0.9650558016505131, 'min_child_weight': 9, 'gamma': 0.45544143319713937, 'reg_alpha': 0.002824634825148442, 'reg_lambda': 0.04960731518329416, 'n_estimators': 277}. Best is trial 21 with value: 0.21579491996694358.\n",
      "[I 2025-03-06 18:23:10,366] Trial 47 finished with value: 0.22406457258939164 and parameters: {'max_depth': 9, 'learning_rate': 0.22582992923850254, 'subsample': 0.6472325223380154, 'colsample_bytree': 0.8863588985546922, 'min_child_weight': 10, 'gamma': 0.15891602917313766, 'reg_alpha': 0.1998393397114756, 'reg_lambda': 0.10866762213922886, 'n_estimators': 363}. Best is trial 21 with value: 0.21579491996694358.\n",
      "[I 2025-03-06 18:23:10,626] Trial 48 finished with value: 0.21847026684244975 and parameters: {'max_depth': 7, 'learning_rate': 0.0671334526914158, 'subsample': 0.7539824779416778, 'colsample_bytree': 0.9978001556566589, 'min_child_weight': 8, 'gamma': 0.29455789871735294, 'reg_alpha': 0.12788876987896902, 'reg_lambda': 0.03329609505259195, 'n_estimators': 199}. Best is trial 21 with value: 0.21579491996694358.\n",
      "[I 2025-03-06 18:23:10,951] Trial 49 finished with value: 0.23059018217274144 and parameters: {'max_depth': 5, 'learning_rate': 0.19094821722203045, 'subsample': 0.9799618776584123, 'colsample_bytree': 0.6302779545140761, 'min_child_weight': 9, 'gamma': 0.897071741287016, 'reg_alpha': 0.5174975152190318, 'reg_lambda': 0.2281188109432849, 'n_estimators': 379}. Best is trial 21 with value: 0.21579491996694358.\n",
      "[I 2025-03-06 18:23:11,441] Trial 50 finished with value: 0.2157549608114446 and parameters: {'max_depth': 6, 'learning_rate': 0.02597106059970497, 'subsample': 0.6843892655927755, 'colsample_bytree': 0.9047340583930552, 'min_child_weight': 1, 'gamma': 0.09647792060441132, 'reg_alpha': 0.259896726686488, 'reg_lambda': 0.0023977231630567183, 'n_estimators': 428}. Best is trial 50 with value: 0.2157549608114446.\n",
      "[I 2025-03-06 18:23:11,930] Trial 51 finished with value: 0.21553101288023443 and parameters: {'max_depth': 6, 'learning_rate': 0.02541609989508493, 'subsample': 0.6843398126360162, 'colsample_bytree': 0.9023708722652254, 'min_child_weight': 1, 'gamma': 0.08737796006779992, 'reg_alpha': 0.2528087877732971, 'reg_lambda': 0.005981114023316873, 'n_estimators': 430}. Best is trial 51 with value: 0.21553101288023443.\n",
      "[I 2025-03-06 18:23:12,416] Trial 52 finished with value: 0.21599461348095647 and parameters: {'max_depth': 6, 'learning_rate': 0.02386282446150987, 'subsample': 0.6816304224927091, 'colsample_bytree': 0.905741926707139, 'min_child_weight': 1, 'gamma': 0.08029982437081344, 'reg_alpha': 0.3351692616321886, 'reg_lambda': 0.005016192682168963, 'n_estimators': 434}. Best is trial 51 with value: 0.21553101288023443.\n",
      "[I 2025-03-06 18:23:13,022] Trial 53 finished with value: 0.21613204674625616 and parameters: {'max_depth': 5, 'learning_rate': 0.020299649616737487, 'subsample': 0.7041300658576856, 'colsample_bytree': 0.918417436805637, 'min_child_weight': 1, 'gamma': 0.04232085327198208, 'reg_alpha': 0.33775610046208976, 'reg_lambda': 0.002162228863216131, 'n_estimators': 435}. Best is trial 51 with value: 0.21553101288023443.\n",
      "[I 2025-03-06 18:23:13,706] Trial 54 finished with value: 0.21719772637256932 and parameters: {'max_depth': 5, 'learning_rate': 0.022919757939066063, 'subsample': 0.6747371716250387, 'colsample_bytree': 0.9031145275467294, 'min_child_weight': 1, 'gamma': 0.041130409046572704, 'reg_alpha': 0.336652625209105, 'reg_lambda': 0.002725895799307522, 'n_estimators': 511}. Best is trial 51 with value: 0.21553101288023443.\n",
      "[I 2025-03-06 18:23:14,295] Trial 55 finished with value: 0.21804533436803958 and parameters: {'max_depth': 5, 'learning_rate': 0.010688583163723125, 'subsample': 0.7758614273056467, 'colsample_bytree': 0.8500735545381404, 'min_child_weight': 2, 'gamma': 0.08426601830698913, 'reg_alpha': 0.26794806707339175, 'reg_lambda': 0.032925610895092126, 'n_estimators': 455}. Best is trial 51 with value: 0.21553101288023443.\n",
      "[I 2025-03-06 18:23:15,082] Trial 56 finished with value: 0.21951210576544405 and parameters: {'max_depth': 6, 'learning_rate': 0.02366971726321396, 'subsample': 0.7057129272449213, 'colsample_bytree': 0.9353787553499222, 'min_child_weight': 1, 'gamma': 0.0018925903548475398, 'reg_alpha': 0.42653529813261126, 'reg_lambda': 0.10643757973677659, 'n_estimators': 425}. Best is trial 51 with value: 0.21553101288023443.\n",
      "[I 2025-03-06 18:23:15,465] Trial 57 finished with value: 0.21713121940531543 and parameters: {'max_depth': 6, 'learning_rate': 0.06057235955404091, 'subsample': 0.7289544386751203, 'colsample_bytree': 0.9116640777757977, 'min_child_weight': 2, 'gamma': 0.10897467496351981, 'reg_alpha': 0.2903259449013569, 'reg_lambda': 0.004041534612519989, 'n_estimators': 398}. Best is trial 51 with value: 0.21553101288023443.\n",
      "[I 2025-03-06 18:23:16,056] Trial 58 finished with value: 0.21924221485576698 and parameters: {'max_depth': 6, 'learning_rate': 0.02619830401850453, 'subsample': 0.7474452065171078, 'colsample_bytree': 0.8204904978333326, 'min_child_weight': 1, 'gamma': 0.05084665071051681, 'reg_alpha': 0.24293624765766436, 'reg_lambda': 0.041987275050351616, 'n_estimators': 512}. Best is trial 51 with value: 0.21553101288023443.\n",
      "[I 2025-03-06 18:23:16,682] Trial 59 finished with value: 0.21844975267954206 and parameters: {'max_depth': 5, 'learning_rate': 0.08063164103602591, 'subsample': 0.6841822535190656, 'colsample_bytree': 0.9487205944809544, 'min_child_weight': 2, 'gamma': 0.13618949121723187, 'reg_alpha': 0.19824104813075122, 'reg_lambda': 0.1050041937847589, 'n_estimators': 605}. Best is trial 51 with value: 0.21553101288023443.\n",
      "[I 2025-03-06 18:23:17,198] Trial 60 finished with value: 0.21935898446584207 and parameters: {'max_depth': 4, 'learning_rate': 0.054940523174950656, 'subsample': 0.6585854353871305, 'colsample_bytree': 0.8920989291666718, 'min_child_weight': 3, 'gamma': 0.03253885570120629, 'reg_alpha': 0.3526106784502918, 'reg_lambda': 0.728308757884748, 'n_estimators': 419}. Best is trial 51 with value: 0.21553101288023443.\n",
      "[I 2025-03-06 18:23:17,805] Trial 61 finished with value: 0.22135949221917778 and parameters: {'max_depth': 3, 'learning_rate': 0.019243881961183894, 'subsample': 0.7038825482869416, 'colsample_bytree': 0.9241550776284729, 'min_child_weight': 1, 'gamma': 0.08363258194061493, 'reg_alpha': 0.4168641159539596, 'reg_lambda': 0.031603699336237245, 'n_estimators': 667}. Best is trial 51 with value: 0.21553101288023443.\n",
      "[I 2025-03-06 18:23:18,177] Trial 62 finished with value: 0.22256214261207072 and parameters: {'max_depth': 5, 'learning_rate': 0.2789885264185723, 'subsample': 0.6881046491844035, 'colsample_bytree': 0.8612164306167075, 'min_child_weight': 1, 'gamma': 0.11052826858662132, 'reg_alpha': 0.3100462505358783, 'reg_lambda': 0.0016366067207456425, 'n_estimators': 441}. Best is trial 51 with value: 0.21553101288023443.\n",
      "[I 2025-03-06 18:23:18,648] Trial 63 finished with value: 0.2166579892792843 and parameters: {'max_depth': 6, 'learning_rate': 0.03456294060345259, 'subsample': 0.7325151523009664, 'colsample_bytree': 0.8989033582469256, 'min_child_weight': 2, 'gamma': 0.1629410046161998, 'reg_alpha': 0.3831236631403987, 'reg_lambda': 0.09522320832799536, 'n_estimators': 504}. Best is trial 51 with value: 0.21553101288023443.\n",
      "[I 2025-03-06 18:23:19,074] Trial 64 finished with value: 0.21734978218401166 and parameters: {'max_depth': 5, 'learning_rate': 0.04233446298102256, 'subsample': 0.707234880968571, 'colsample_bytree': 0.9763942128729901, 'min_child_weight': 4, 'gamma': 0.06485086906416229, 'reg_alpha': 0.5316091984544287, 'reg_lambda': 0.13581761058312994, 'n_estimators': 374}. Best is trial 51 with value: 0.21553101288023443.\n",
      "[I 2025-03-06 18:23:19,541] Trial 65 finished with value: 0.2197061995501481 and parameters: {'max_depth': 6, 'learning_rate': 0.017696684151070063, 'subsample': 0.6190531790229246, 'colsample_bytree': 0.7987880080968917, 'min_child_weight': 2, 'gamma': 0.21518587558055344, 'reg_alpha': 0.47578469823398045, 'reg_lambda': 0.052486855209074285, 'n_estimators': 465}. Best is trial 51 with value: 0.21553101288023443.\n",
      "[I 2025-03-06 18:23:19,983] Trial 66 finished with value: 0.23330571715098297 and parameters: {'max_depth': 6, 'learning_rate': 0.15738439101734686, 'subsample': 0.6686401925631006, 'colsample_bytree': 0.9359542571461574, 'min_child_weight': 1, 'gamma': 0.020376894555966005, 'reg_alpha': 0.2224516035319204, 'reg_lambda': 0.18196050113326145, 'n_estimators': 294}. Best is trial 51 with value: 0.21553101288023443.\n",
      "[I 2025-03-06 18:23:20,692] Trial 67 finished with value: 0.21812176751198198 and parameters: {'max_depth': 7, 'learning_rate': 0.01009848903420396, 'subsample': 0.6281583064277829, 'colsample_bytree': 0.878277067575159, 'min_child_weight': 3, 'gamma': 0.12837208943230843, 'reg_alpha': 0.2726909444218047, 'reg_lambda': 0.08091433838700478, 'n_estimators': 554}. Best is trial 51 with value: 0.21553101288023443.\n",
      "[I 2025-03-06 18:23:21,070] Trial 68 finished with value: 0.22136371629348395 and parameters: {'max_depth': 5, 'learning_rate': 0.07137575375704827, 'subsample': 0.6542685099343264, 'colsample_bytree': 0.9083568266069882, 'min_child_weight': 3, 'gamma': 0.0736835862480586, 'reg_alpha': 0.3232790912931043, 'reg_lambda': 0.5894735497393988, 'n_estimators': 353}. Best is trial 51 with value: 0.21553101288023443.\n",
      "[I 2025-03-06 18:23:21,470] Trial 69 finished with value: 0.21708317487720655 and parameters: {'max_depth': 6, 'learning_rate': 0.02721625908060462, 'subsample': 0.7883484574122714, 'colsample_bytree': 0.8597556781523746, 'min_child_weight': 1, 'gamma': 0.1728913548388768, 'reg_alpha': 0.1684719064757355, 'reg_lambda': 0.12977290710009795, 'n_estimators': 418}. Best is trial 51 with value: 0.21553101288023443.\n",
      "[I 2025-03-06 18:23:21,848] Trial 70 finished with value: 0.21686220473490864 and parameters: {'max_depth': 10, 'learning_rate': 0.05751271224705353, 'subsample': 0.947770773327419, 'colsample_bytree': 0.9200996751098446, 'min_child_weight': 2, 'gamma': 0.10042403157811125, 'reg_alpha': 0.36670849526294974, 'reg_lambda': 0.03528866719214522, 'n_estimators': 396}. Best is trial 51 with value: 0.21553101288023443.\n",
      "[I 2025-03-06 18:23:22,286] Trial 71 finished with value: 0.21578391445705364 and parameters: {'max_depth': 6, 'learning_rate': 0.03741744456184538, 'subsample': 0.7433083382531357, 'colsample_bytree': 0.8967390496317941, 'min_child_weight': 2, 'gamma': 0.16102922369887543, 'reg_alpha': 0.3977687010397006, 'reg_lambda': 0.09269686527696538, 'n_estimators': 505}. Best is trial 51 with value: 0.21553101288023443.\n",
      "[I 2025-03-06 18:23:22,730] Trial 72 finished with value: 0.21566236766500918 and parameters: {'max_depth': 7, 'learning_rate': 0.046691190982658407, 'subsample': 0.7534390665435181, 'colsample_bytree': 0.8903137481270752, 'min_child_weight': 1, 'gamma': 0.13663025986941607, 'reg_alpha': 0.41300752518476014, 'reg_lambda': 0.07619867165472624, 'n_estimators': 471}. Best is trial 51 with value: 0.21553101288023443.\n",
      "[I 2025-03-06 18:23:23,128] Trial 73 finished with value: 0.2167862468554369 and parameters: {'max_depth': 7, 'learning_rate': 0.046618776970631125, 'subsample': 0.8276741416009387, 'colsample_bytree': 0.8392238652196385, 'min_child_weight': 1, 'gamma': 0.14957352749447564, 'reg_alpha': 0.48849591436675377, 'reg_lambda': 0.07121590220678517, 'n_estimators': 485}. Best is trial 51 with value: 0.21553101288023443.\n",
      "[I 2025-03-06 18:23:23,907] Trial 74 finished with value: 0.22322727063421524 and parameters: {'max_depth': 7, 'learning_rate': 0.03740789699126732, 'subsample': 0.7560284834017486, 'colsample_bytree': 0.8877445369097318, 'min_child_weight': 1, 'gamma': 0.025172223109500826, 'reg_alpha': 0.3061901985197914, 'reg_lambda': 0.013422695579321967, 'n_estimators': 533}. Best is trial 51 with value: 0.21553101288023443.\n",
      "[I 2025-03-06 18:23:24,398] Trial 75 finished with value: 0.2166652881520385 and parameters: {'max_depth': 6, 'learning_rate': 0.029906339665216733, 'subsample': 0.7209981889027222, 'colsample_bytree': 0.9625848232012927, 'min_child_weight': 2, 'gamma': 0.20556964761704022, 'reg_alpha': 0.4112516179335537, 'reg_lambda': 0.09767141104652921, 'n_estimators': 580}. Best is trial 51 with value: 0.21553101288023443.\n",
      "[I 2025-03-06 18:23:24,842] Trial 76 finished with value: 0.21557387354004695 and parameters: {'max_depth': 7, 'learning_rate': 0.05105057565103673, 'subsample': 0.7421118406432899, 'colsample_bytree': 0.8706552522900332, 'min_child_weight': 1, 'gamma': 0.11415502929864504, 'reg_alpha': 0.24914229829629692, 'reg_lambda': 0.05786375967405666, 'n_estimators': 449}. Best is trial 51 with value: 0.21553101288023443.\n",
      "[I 2025-03-06 18:23:25,249] Trial 77 finished with value: 0.21772844337292382 and parameters: {'max_depth': 7, 'learning_rate': 0.04887758308715014, 'subsample': 0.8378250821139331, 'colsample_bytree': 0.8717883361448977, 'min_child_weight': 2, 'gamma': 0.12027712973199106, 'reg_alpha': 0.25118935903130135, 'reg_lambda': 0.1958294904092196, 'n_estimators': 469}. Best is trial 51 with value: 0.21553101288023443.\n",
      "[I 2025-03-06 18:23:25,648] Trial 78 finished with value: 0.21677465582732175 and parameters: {'max_depth': 7, 'learning_rate': 0.062265438503400466, 'subsample': 0.7390191975985554, 'colsample_bytree': 0.8504640753516528, 'min_child_weight': 1, 'gamma': 0.2618461369305901, 'reg_alpha': 0.18881509322710174, 'reg_lambda': 0.05518099411007178, 'n_estimators': 518}. Best is trial 51 with value: 0.21553101288023443.\n",
      "[I 2025-03-06 18:23:26,148] Trial 79 finished with value: 0.2190233038937083 and parameters: {'max_depth': 8, 'learning_rate': 0.0407097708339296, 'subsample': 0.7725371751768418, 'colsample_bytree': 0.7441867452939227, 'min_child_weight': 1, 'gamma': 0.10264975499066988, 'reg_alpha': 0.4589902590873399, 'reg_lambda': 0.15446205410848543, 'n_estimators': 567}. Best is trial 51 with value: 0.21553101288023443.\n",
      "[I 2025-03-06 18:23:26,522] Trial 80 finished with value: 0.22763534277095465 and parameters: {'max_depth': 7, 'learning_rate': 0.07288833098277862, 'subsample': 0.7937732518210167, 'colsample_bytree': 0.5256154474507462, 'min_child_weight': 4, 'gamma': 0.18199397337607667, 'reg_alpha': 0.5489919980172938, 'reg_lambda': 0.8221150552220737, 'n_estimators': 403}. Best is trial 51 with value: 0.21553101288023443.\n",
      "[I 2025-03-06 18:23:27,110] Trial 81 finished with value: 0.21559327037219922 and parameters: {'max_depth': 6, 'learning_rate': 0.01762392946623756, 'subsample': 0.691281449599358, 'colsample_bytree': 0.9842186405434746, 'min_child_weight': 1, 'gamma': 0.06994910163486198, 'reg_alpha': 0.3529585103615183, 'reg_lambda': 0.019052745040735484, 'n_estimators': 436}. Best is trial 51 with value: 0.21553101288023443.\n",
      "[I 2025-03-06 18:23:27,529] Trial 82 finished with value: 0.21622494701288258 and parameters: {'max_depth': 6, 'learning_rate': 0.030797671407888985, 'subsample': 0.6826422112824291, 'colsample_bytree': 0.9411650150873043, 'min_child_weight': 1, 'gamma': 0.14118036346534965, 'reg_alpha': 0.36207931688372497, 'reg_lambda': 0.030093748758096468, 'n_estimators': 453}. Best is trial 51 with value: 0.21553101288023443.\n",
      "[I 2025-03-06 18:23:28,052] Trial 83 finished with value: 0.21613285684507555 and parameters: {'max_depth': 6, 'learning_rate': 0.019410943499560962, 'subsample': 0.7460823278575102, 'colsample_bytree': 0.9795262619359005, 'min_child_weight': 2, 'gamma': 0.0570381051982032, 'reg_alpha': 0.3942632989039726, 'reg_lambda': 0.11590756521702339, 'n_estimators': 374}. Best is trial 51 with value: 0.21553101288023443.\n",
      "[I 2025-03-06 18:23:28,534] Trial 84 finished with value: 0.21922087228553888 and parameters: {'max_depth': 7, 'learning_rate': 0.050618452166659715, 'subsample': 0.718961700781767, 'colsample_bytree': 0.9863910145218284, 'min_child_weight': 1, 'gamma': 0.0825823063885782, 'reg_alpha': 0.0921386779029966, 'reg_lambda': 0.08265193977808535, 'n_estimators': 489}. Best is trial 51 with value: 0.21553101288023443.\n",
      "[I 2025-03-06 18:23:28,867] Trial 85 finished with value: 0.21780658692005447 and parameters: {'max_depth': 6, 'learning_rate': 0.038697134652078254, 'subsample': 0.7592184301101763, 'colsample_bytree': 0.955233592049049, 'min_child_weight': 2, 'gamma': 0.23844733327711964, 'reg_alpha': 0.2806075607109732, 'reg_lambda': 0.069243708808118, 'n_estimators': 318}. Best is trial 51 with value: 0.21553101288023443.\n",
      "[I 2025-03-06 18:23:29,241] Trial 86 finished with value: 0.21285589617319983 and parameters: {'max_depth': 7, 'learning_rate': 0.08491960900367897, 'subsample': 0.6942274903471605, 'colsample_bytree': 0.8922150526995536, 'min_child_weight': 1, 'gamma': 0.11768244436022937, 'reg_alpha': 0.2283606338300546, 'reg_lambda': 0.051281448738075434, 'n_estimators': 345}. Best is trial 86 with value: 0.21285589617319983.\n",
      "[I 2025-03-06 18:23:29,683] Trial 87 finished with value: 0.22106155895791052 and parameters: {'max_depth': 8, 'learning_rate': 0.06622730150775061, 'subsample': 0.6962352558963766, 'colsample_bytree': 0.6974951998345814, 'min_child_weight': 1, 'gamma': 0.16045696419490138, 'reg_alpha': 0.21197661957186353, 'reg_lambda': 0.052198747849959815, 'n_estimators': 337}. Best is trial 86 with value: 0.21285589617319983.\n",
      "[I 2025-03-06 18:23:29,965] Trial 88 finished with value: 0.21910177624264074 and parameters: {'max_depth': 7, 'learning_rate': 0.0843136711808839, 'subsample': 0.6425949209390333, 'colsample_bytree': 0.8272085289531581, 'min_child_weight': 3, 'gamma': 0.2758769159887964, 'reg_alpha': 0.1438751693171385, 'reg_lambda': 0.12493495742135324, 'n_estimators': 267}. Best is trial 86 with value: 0.21285589617319983.\n",
      "[I 2025-03-06 18:23:30,249] Trial 89 finished with value: 0.21550063368301423 and parameters: {'max_depth': 7, 'learning_rate': 0.10472452417039899, 'subsample': 0.6646977004249118, 'colsample_bytree': 0.8930683916171878, 'min_child_weight': 1, 'gamma': 0.19803411504841725, 'reg_alpha': 0.23494712726808403, 'reg_lambda': 0.026208040682070326, 'n_estimators': 240}. Best is trial 86 with value: 0.21285589617319983.\n",
      "[I 2025-03-06 18:23:30,529] Trial 90 finished with value: 0.22005553308675851 and parameters: {'max_depth': 7, 'learning_rate': 0.10634502089460067, 'subsample': 0.6677699102487736, 'colsample_bytree': 0.8856855988440951, 'min_child_weight': 1, 'gamma': 0.2043951750087158, 'reg_alpha': 0.22688973923643757, 'reg_lambda': 0.177095700687827, 'n_estimators': 233}. Best is trial 86 with value: 0.21285589617319983.\n",
      "[I 2025-03-06 18:23:30,851] Trial 91 finished with value: 0.22050770403958161 and parameters: {'max_depth': 7, 'learning_rate': 0.12913989065795856, 'subsample': 0.7166004730669128, 'colsample_bytree': 0.8656981366416646, 'min_child_weight': 2, 'gamma': 0.12229825997820713, 'reg_alpha': 0.24642343682046222, 'reg_lambda': 0.02510810132886048, 'n_estimators': 298}. Best is trial 86 with value: 0.21285589617319983.\n",
      "[I 2025-03-06 18:23:31,279] Trial 92 finished with value: 0.21479295650345268 and parameters: {'max_depth': 7, 'learning_rate': 0.05688900031167046, 'subsample': 0.6619469377062699, 'colsample_bytree': 0.8965186790354449, 'min_child_weight': 6, 'gamma': 0.17560745341595244, 'reg_alpha': 0.28455239033877927, 'reg_lambda': 0.08397836628587828, 'n_estimators': 345}. Best is trial 86 with value: 0.21285589617319983.\n",
      "[I 2025-03-06 18:23:31,640] Trial 93 finished with value: 0.21498549727108068 and parameters: {'max_depth': 7, 'learning_rate': 0.08554622304356348, 'subsample': 0.6910108179658017, 'colsample_bytree': 0.8977576442860028, 'min_child_weight': 1, 'gamma': 0.18134950205567835, 'reg_alpha': 0.28740304697620067, 'reg_lambda': 0.09220574341838556, 'n_estimators': 406}. Best is trial 86 with value: 0.21285589617319983.\n",
      "[I 2025-03-06 18:23:31,979] Trial 94 finished with value: 0.21421103510191294 and parameters: {'max_depth': 8, 'learning_rate': 0.08525413232326656, 'subsample': 0.7340576516874153, 'colsample_bytree': 0.8987834734633673, 'min_child_weight': 6, 'gamma': 0.17683782089020358, 'reg_alpha': 0.2947976445168497, 'reg_lambda': 0.09619703048876768, 'n_estimators': 382}. Best is trial 86 with value: 0.21285589617319983.\n",
      "[I 2025-03-06 18:23:32,302] Trial 95 finished with value: 0.2168165146463431 and parameters: {'max_depth': 8, 'learning_rate': 0.09909490264095641, 'subsample': 0.6965088060412592, 'colsample_bytree': 0.8068036039638415, 'min_child_weight': 5, 'gamma': 0.1862595184385129, 'reg_alpha': 0.28933283853642905, 'reg_lambda': 0.1506979289064049, 'n_estimators': 354}. Best is trial 86 with value: 0.21285589617319983.\n",
      "[I 2025-03-06 18:23:32,637] Trial 96 finished with value: 0.22203274478717902 and parameters: {'max_depth': 8, 'learning_rate': 0.08891100529554165, 'subsample': 0.7113387627301431, 'colsample_bytree': 0.8766041544080554, 'min_child_weight': 6, 'gamma': 0.5369123012081843, 'reg_alpha': 0.2607108531084685, 'reg_lambda': 0.4588727377770072, 'n_estimators': 388}. Best is trial 86 with value: 0.21285589617319983.\n",
      "[I 2025-03-06 18:23:32,955] Trial 97 finished with value: 0.22699068976521794 and parameters: {'max_depth': 7, 'learning_rate': 0.1058500673105171, 'subsample': 0.7329299150549073, 'colsample_bytree': 0.7833677141116846, 'min_child_weight': 6, 'gamma': 0.8372179007554312, 'reg_alpha': 0.29960930176239986, 'reg_lambda': 0.05958206952238344, 'n_estimators': 409}. Best is trial 86 with value: 0.21285589617319983.\n",
      "[I 2025-03-06 18:23:33,356] Trial 98 finished with value: 0.2142746149393008 and parameters: {'max_depth': 7, 'learning_rate': 0.07920577168645217, 'subsample': 0.6609309683350608, 'colsample_bytree': 0.9276881880625777, 'min_child_weight': 6, 'gamma': 0.14400394275626735, 'reg_alpha': 0.23722360709814228, 'reg_lambda': 0.276498714951094, 'n_estimators': 448}. Best is trial 86 with value: 0.21285589617319983.\n",
      "[I 2025-03-06 18:23:33,729] Trial 99 finished with value: 0.213797867222676 and parameters: {'max_depth': 8, 'learning_rate': 0.07581583732821613, 'subsample': 0.6622128312102664, 'colsample_bytree': 0.923706785154009, 'min_child_weight': 6, 'gamma': 0.22365927437222527, 'reg_alpha': 0.2320956690954029, 'reg_lambda': 0.25644775660460856, 'n_estimators': 447}. Best is trial 86 with value: 0.21285589617319983.\n"
     ]
    },
    {
     "name": "stdout",
     "output_type": "stream",
     "text": [
      "Best hyperparameters: {'max_depth': 7, 'learning_rate': 0.08491960900367897, 'subsample': 0.6942274903471605, 'colsample_bytree': 0.8922150526995536, 'min_child_weight': 1, 'gamma': 0.11768244436022937, 'reg_alpha': 0.2283606338300546, 'reg_lambda': 0.051281448738075434, 'n_estimators': 345}\n",
      "Best RMSE: 0.21285589617319983\n"
     ]
    }
   ],
   "source": [
    "study = optuna.create_study(direction='minimize')  # Minimize RMSE (or maximize accuracy)\n",
    "study.optimize(objective, n_trials=100)  # Number of trials\n",
    "\n",
    "# Print the best hyperparameters\n",
    "print(\"Best hyperparameters:\", study.best_params)\n",
    "print(\"Best RMSE:\", study.best_value)"
   ]
  },
  {
   "cell_type": "code",
   "execution_count": 32,
   "metadata": {},
   "outputs": [
    {
     "name": "stdout",
     "output_type": "stream",
     "text": [
      "Final RMSE: 0.21285589617319983\n"
     ]
    }
   ],
   "source": [
    "best_params = study.best_params\n",
    "\n",
    "# Add fixed parameters (e.g., objective, random_state)\n",
    "best_params['objective'] = 'reg:squarederror'  # Adjust for your task\n",
    "best_params['random_state'] = 42\n",
    "\n",
    "# Train the final model\n",
    "final_model = xgb.XGBRegressor(**best_params)\n",
    "final_model.fit(X_train, y_train)\n",
    "\n",
    "# Evaluate on the test set\n",
    "y_pred = final_model.predict(X_test)\n",
    "mse = mean_squared_error(y_test, y_pred)  # Calculate MSE\n",
    "rmse = mse ** 0.5  # Manually calculate RMSE\n",
    "print(f\"Final RMSE: {rmse}\")"
   ]
  },
  {
   "cell_type": "code",
   "execution_count": 26,
   "metadata": {},
   "outputs": [
    {
     "name": "stderr",
     "output_type": "stream",
     "text": [
      "c:\\Users\\ayman\\AppData\\Local\\Programs\\Python\\Python311\\Lib\\site-packages\\xgboost\\core.py:158: UserWarning: [18:09:12] WARNING: C:\\buildkite-agent\\builds\\buildkite-windows-cpu-autoscaling-group-i-08cbc0333d8d4aae1-1\\xgboost\\xgboost-ci-windows\\src\\c_api\\c_api.cc:1374: Saving model in the UBJSON format as default.  You can use file extension: `json`, `ubj` or `deprecated` to choose between formats.\n",
      "  warnings.warn(smsg, UserWarning)\n"
     ]
    }
   ],
   "source": [
    "final_model.save_model('final.model')"
   ]
  }
 ],
 "metadata": {
  "kernelspec": {
   "display_name": "Python 3",
   "language": "python",
   "name": "python3"
  },
  "language_info": {
   "codemirror_mode": {
    "name": "ipython",
    "version": 3
   },
   "file_extension": ".py",
   "mimetype": "text/x-python",
   "name": "python",
   "nbconvert_exporter": "python",
   "pygments_lexer": "ipython3",
   "version": "3.11.0"
  }
 },
 "nbformat": 4,
 "nbformat_minor": 2
}
